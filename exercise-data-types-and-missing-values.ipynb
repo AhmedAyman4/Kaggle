{
 "cells": [
  {
   "cell_type": "markdown",
   "id": "731ef056",
   "metadata": {
    "papermill": {
     "duration": 0.006593,
     "end_time": "2024-07-01T14:12:36.337288",
     "exception": false,
     "start_time": "2024-07-01T14:12:36.330695",
     "status": "completed"
    },
    "tags": []
   },
   "source": [
    "**This notebook is an exercise in the [Pandas](https://www.kaggle.com/learn/pandas) course.  You can reference the tutorial at [this link](https://www.kaggle.com/residentmario/data-types-and-missing-values).**\n",
    "\n",
    "---\n"
   ]
  },
  {
   "cell_type": "markdown",
   "id": "cd3a12f9",
   "metadata": {
    "papermill": {
     "duration": 0.005941,
     "end_time": "2024-07-01T14:12:36.351158",
     "exception": false,
     "start_time": "2024-07-01T14:12:36.345217",
     "status": "completed"
    },
    "tags": []
   },
   "source": [
    "# Introduction\n",
    "\n",
    "Run the following cell to load your data and some utility functions."
   ]
  },
  {
   "cell_type": "code",
   "execution_count": 1,
   "id": "4246542a",
   "metadata": {
    "execution": {
     "iopub.execute_input": "2024-07-01T14:12:36.365756Z",
     "iopub.status.busy": "2024-07-01T14:12:36.364805Z",
     "iopub.status.idle": "2024-07-01T14:12:40.425474Z",
     "shell.execute_reply": "2024-07-01T14:12:40.424305Z"
    },
    "papermill": {
     "duration": 4.070912,
     "end_time": "2024-07-01T14:12:40.428126",
     "exception": false,
     "start_time": "2024-07-01T14:12:36.357214",
     "status": "completed"
    },
    "tags": []
   },
   "outputs": [
    {
     "name": "stdout",
     "output_type": "stream",
     "text": [
      "Setup complete.\n"
     ]
    }
   ],
   "source": [
    "import pandas as pd\n",
    "\n",
    "reviews = pd.read_csv(\"../input/wine-reviews/winemag-data-130k-v2.csv\", index_col=0)\n",
    "\n",
    "from learntools.core import binder; binder.bind(globals())\n",
    "from learntools.pandas.data_types_and_missing_data import *\n",
    "print(\"Setup complete.\")"
   ]
  },
  {
   "cell_type": "markdown",
   "id": "12ef1ef3",
   "metadata": {
    "papermill": {
     "duration": 0.006225,
     "end_time": "2024-07-01T14:12:40.440707",
     "exception": false,
     "start_time": "2024-07-01T14:12:40.434482",
     "status": "completed"
    },
    "tags": []
   },
   "source": [
    "# Exercises"
   ]
  },
  {
   "cell_type": "markdown",
   "id": "62bd89c7",
   "metadata": {
    "papermill": {
     "duration": 0.00597,
     "end_time": "2024-07-01T14:12:40.453239",
     "exception": false,
     "start_time": "2024-07-01T14:12:40.447269",
     "status": "completed"
    },
    "tags": []
   },
   "source": [
    "## 1. \n",
    "What is the data type of the `points` column in the dataset?"
   ]
  },
  {
   "cell_type": "code",
   "execution_count": 2,
   "id": "bafd6947",
   "metadata": {
    "execution": {
     "iopub.execute_input": "2024-07-01T14:12:40.467293Z",
     "iopub.status.busy": "2024-07-01T14:12:40.466879Z",
     "iopub.status.idle": "2024-07-01T14:12:40.477622Z",
     "shell.execute_reply": "2024-07-01T14:12:40.476609Z"
    },
    "papermill": {
     "duration": 0.020655,
     "end_time": "2024-07-01T14:12:40.480095",
     "exception": false,
     "start_time": "2024-07-01T14:12:40.459440",
     "status": "completed"
    },
    "tags": []
   },
   "outputs": [
    {
     "data": {
      "application/javascript": [
       "parent.postMessage({\"jupyterEvent\": \"custom.exercise_interaction\", \"data\": {\"outcomeType\": 1, \"valueTowardsCompletion\": 0.25, \"interactionType\": 1, \"questionType\": 1, \"questionId\": \"1_PointsDtype\", \"learnToolsVersion\": \"0.3.4\", \"failureMessage\": \"\", \"exceptionClass\": \"\", \"trace\": \"\"}}, \"*\")"
      ],
      "text/plain": [
       "<IPython.core.display.Javascript object>"
      ]
     },
     "metadata": {},
     "output_type": "display_data"
    },
    {
     "data": {
      "text/markdown": [
       "<span style=\"color:#33cc33\">Correct</span>"
      ],
      "text/plain": [
       "Correct"
      ]
     },
     "metadata": {},
     "output_type": "display_data"
    }
   ],
   "source": [
    "# Your code here\n",
    "dtype = reviews.points.dtype\n",
    "\n",
    "# Check your answer\n",
    "q1.check()"
   ]
  },
  {
   "cell_type": "code",
   "execution_count": 3,
   "id": "e8b07069",
   "metadata": {
    "execution": {
     "iopub.execute_input": "2024-07-01T14:12:40.495155Z",
     "iopub.status.busy": "2024-07-01T14:12:40.494713Z",
     "iopub.status.idle": "2024-07-01T14:12:40.499482Z",
     "shell.execute_reply": "2024-07-01T14:12:40.498351Z"
    },
    "papermill": {
     "duration": 0.015236,
     "end_time": "2024-07-01T14:12:40.501867",
     "exception": false,
     "start_time": "2024-07-01T14:12:40.486631",
     "status": "completed"
    },
    "tags": []
   },
   "outputs": [],
   "source": [
    "#q1.hint()\n",
    "#q1.solution()"
   ]
  },
  {
   "cell_type": "markdown",
   "id": "e4850b28",
   "metadata": {
    "papermill": {
     "duration": 0.006264,
     "end_time": "2024-07-01T14:12:40.514831",
     "exception": false,
     "start_time": "2024-07-01T14:12:40.508567",
     "status": "completed"
    },
    "tags": []
   },
   "source": [
    "## 2. \n",
    "Create a Series from entries in the `points` column, but convert the entries to strings. Hint: strings are `str` in native Python."
   ]
  },
  {
   "cell_type": "code",
   "execution_count": 4,
   "id": "0b3878f7",
   "metadata": {
    "execution": {
     "iopub.execute_input": "2024-07-01T14:12:40.529823Z",
     "iopub.status.busy": "2024-07-01T14:12:40.529441Z",
     "iopub.status.idle": "2024-07-01T14:12:40.602151Z",
     "shell.execute_reply": "2024-07-01T14:12:40.600979Z"
    },
    "papermill": {
     "duration": 0.083018,
     "end_time": "2024-07-01T14:12:40.604455",
     "exception": false,
     "start_time": "2024-07-01T14:12:40.521437",
     "status": "completed"
    },
    "tags": []
   },
   "outputs": [
    {
     "data": {
      "application/javascript": [
       "parent.postMessage({\"jupyterEvent\": \"custom.exercise_interaction\", \"data\": {\"outcomeType\": 1, \"valueTowardsCompletion\": 0.25, \"interactionType\": 1, \"questionType\": 1, \"questionId\": \"2_StrPoints\", \"learnToolsVersion\": \"0.3.4\", \"failureMessage\": \"\", \"exceptionClass\": \"\", \"trace\": \"\"}}, \"*\")"
      ],
      "text/plain": [
       "<IPython.core.display.Javascript object>"
      ]
     },
     "metadata": {},
     "output_type": "display_data"
    },
    {
     "data": {
      "text/markdown": [
       "<span style=\"color:#33cc33\">Correct</span>"
      ],
      "text/plain": [
       "Correct"
      ]
     },
     "metadata": {},
     "output_type": "display_data"
    }
   ],
   "source": [
    "point_strings = reviews.points.astype('str')\n",
    "\n",
    "# Check your answer\n",
    "q2.check()"
   ]
  },
  {
   "cell_type": "code",
   "execution_count": 5,
   "id": "01f45c54",
   "metadata": {
    "execution": {
     "iopub.execute_input": "2024-07-01T14:12:40.620063Z",
     "iopub.status.busy": "2024-07-01T14:12:40.619649Z",
     "iopub.status.idle": "2024-07-01T14:12:40.624570Z",
     "shell.execute_reply": "2024-07-01T14:12:40.623429Z"
    },
    "papermill": {
     "duration": 0.015785,
     "end_time": "2024-07-01T14:12:40.627121",
     "exception": false,
     "start_time": "2024-07-01T14:12:40.611336",
     "status": "completed"
    },
    "tags": []
   },
   "outputs": [],
   "source": [
    "#q2.hint()\n",
    "#q2.solution()"
   ]
  },
  {
   "cell_type": "markdown",
   "id": "020452b3",
   "metadata": {
    "papermill": {
     "duration": 0.006751,
     "end_time": "2024-07-01T14:12:40.641052",
     "exception": false,
     "start_time": "2024-07-01T14:12:40.634301",
     "status": "completed"
    },
    "tags": []
   },
   "source": [
    "## 3.\n",
    "Sometimes the price column is null. How many reviews in the dataset are missing a price?"
   ]
  },
  {
   "cell_type": "code",
   "execution_count": 6,
   "id": "b0ca08aa",
   "metadata": {
    "execution": {
     "iopub.execute_input": "2024-07-01T14:12:40.658352Z",
     "iopub.status.busy": "2024-07-01T14:12:40.657205Z",
     "iopub.status.idle": "2024-07-01T14:12:40.667787Z",
     "shell.execute_reply": "2024-07-01T14:12:40.666720Z"
    },
    "papermill": {
     "duration": 0.022436,
     "end_time": "2024-07-01T14:12:40.670467",
     "exception": false,
     "start_time": "2024-07-01T14:12:40.648031",
     "status": "completed"
    },
    "tags": []
   },
   "outputs": [
    {
     "data": {
      "application/javascript": [
       "parent.postMessage({\"jupyterEvent\": \"custom.exercise_interaction\", \"data\": {\"outcomeType\": 1, \"valueTowardsCompletion\": 0.25, \"interactionType\": 1, \"questionType\": 1, \"questionId\": \"3_CountMissingPrices\", \"learnToolsVersion\": \"0.3.4\", \"failureMessage\": \"\", \"exceptionClass\": \"\", \"trace\": \"\"}}, \"*\")"
      ],
      "text/plain": [
       "<IPython.core.display.Javascript object>"
      ]
     },
     "metadata": {},
     "output_type": "display_data"
    },
    {
     "data": {
      "text/markdown": [
       "<span style=\"color:#33cc33\">Correct</span>"
      ],
      "text/plain": [
       "Correct"
      ]
     },
     "metadata": {},
     "output_type": "display_data"
    }
   ],
   "source": [
    "n_missing_prices = reviews.price.isnull().sum()\n",
    "# n_missing_prices = len(reviews[reviews.price.isnull()])\n",
    "\n",
    "# Check your answer\n",
    "q3.check()"
   ]
  },
  {
   "cell_type": "code",
   "execution_count": 7,
   "id": "6a097520",
   "metadata": {
    "execution": {
     "iopub.execute_input": "2024-07-01T14:12:40.687392Z",
     "iopub.status.busy": "2024-07-01T14:12:40.686991Z",
     "iopub.status.idle": "2024-07-01T14:12:40.691864Z",
     "shell.execute_reply": "2024-07-01T14:12:40.690737Z"
    },
    "papermill": {
     "duration": 0.016361,
     "end_time": "2024-07-01T14:12:40.694277",
     "exception": false,
     "start_time": "2024-07-01T14:12:40.677916",
     "status": "completed"
    },
    "tags": []
   },
   "outputs": [],
   "source": [
    "# q3.hint()\n",
    "# q3.solution()"
   ]
  },
  {
   "cell_type": "markdown",
   "id": "6be400ca",
   "metadata": {
    "papermill": {
     "duration": 0.007026,
     "end_time": "2024-07-01T14:12:40.709393",
     "exception": false,
     "start_time": "2024-07-01T14:12:40.702367",
     "status": "completed"
    },
    "tags": []
   },
   "source": [
    "## 4.\n",
    "What are the most common wine-producing regions? Create a Series counting the number of times each value occurs in the `region_1` field. This field is often missing data, so replace missing values with `Unknown`. Sort in descending order.  Your output should look something like this:\n",
    "\n",
    "```\n",
    "Unknown                    21247\n",
    "Napa Valley                 4480\n",
    "                           ...  \n",
    "Bardolino Superiore            1\n",
    "Primitivo del Tarantino        1\n",
    "Name: region_1, Length: 1230, dtype: int64\n",
    "```"
   ]
  },
  {
   "cell_type": "code",
   "execution_count": 8,
   "id": "52f40de6",
   "metadata": {
    "execution": {
     "iopub.execute_input": "2024-07-01T14:12:40.725919Z",
     "iopub.status.busy": "2024-07-01T14:12:40.725507Z",
     "iopub.status.idle": "2024-07-01T14:12:40.816508Z",
     "shell.execute_reply": "2024-07-01T14:12:40.815347Z"
    },
    "papermill": {
     "duration": 0.102515,
     "end_time": "2024-07-01T14:12:40.819240",
     "exception": false,
     "start_time": "2024-07-01T14:12:40.716725",
     "status": "completed"
    },
    "tags": []
   },
   "outputs": [
    {
     "data": {
      "application/javascript": [
       "parent.postMessage({\"jupyterEvent\": \"custom.exercise_interaction\", \"data\": {\"outcomeType\": 1, \"valueTowardsCompletion\": 0.25, \"interactionType\": 1, \"questionType\": 2, \"questionId\": \"4_ReviewsPerRegion\", \"learnToolsVersion\": \"0.3.4\", \"failureMessage\": \"\", \"exceptionClass\": \"\", \"trace\": \"\"}}, \"*\")"
      ],
      "text/plain": [
       "<IPython.core.display.Javascript object>"
      ]
     },
     "metadata": {},
     "output_type": "display_data"
    },
    {
     "data": {
      "text/markdown": [
       "<span style=\"color:#33cc33\">Correct</span>"
      ],
      "text/plain": [
       "Correct"
      ]
     },
     "metadata": {},
     "output_type": "display_data"
    }
   ],
   "source": [
    "# region=reviews.region_1.isnull()\n",
    "# count=reviews.region_1.value_counts().fillna(\"Unknown\").sort_values(ascending=False)\n",
    "reviews_per_region = reviews.region_1.fillna('Unknown').value_counts().sort_values(ascending=False)\n",
    "# print(count)\n",
    "# Check your answer\n",
    "q4.check()"
   ]
  },
  {
   "cell_type": "code",
   "execution_count": 9,
   "id": "baef4d0e",
   "metadata": {
    "execution": {
     "iopub.execute_input": "2024-07-01T14:12:40.836552Z",
     "iopub.status.busy": "2024-07-01T14:12:40.836127Z",
     "iopub.status.idle": "2024-07-01T14:12:40.841023Z",
     "shell.execute_reply": "2024-07-01T14:12:40.839749Z"
    },
    "papermill": {
     "duration": 0.016523,
     "end_time": "2024-07-01T14:12:40.843463",
     "exception": false,
     "start_time": "2024-07-01T14:12:40.826940",
     "status": "completed"
    },
    "tags": []
   },
   "outputs": [],
   "source": [
    "# q4.hint()\n",
    "# q4.solution()"
   ]
  },
  {
   "cell_type": "markdown",
   "id": "befeacb4",
   "metadata": {
    "papermill": {
     "duration": 0.007391,
     "end_time": "2024-07-01T14:12:40.858887",
     "exception": false,
     "start_time": "2024-07-01T14:12:40.851496",
     "status": "completed"
    },
    "tags": []
   },
   "source": [
    "# Keep going\n",
    "\n",
    "Move on to **[renaming and combining](https://www.kaggle.com/residentmario/renaming-and-combining)**."
   ]
  },
  {
   "cell_type": "markdown",
   "id": "5044ddb2",
   "metadata": {
    "papermill": {
     "duration": 0.00767,
     "end_time": "2024-07-01T14:12:40.875331",
     "exception": false,
     "start_time": "2024-07-01T14:12:40.867661",
     "status": "completed"
    },
    "tags": []
   },
   "source": [
    "---\n",
    "\n",
    "\n",
    "\n",
    "\n",
    "*Have questions or comments? Visit the [course discussion forum](https://www.kaggle.com/learn/pandas/discussion) to chat with other learners.*"
   ]
  }
 ],
 "metadata": {
  "kaggle": {
   "accelerator": "none",
   "dataSources": [
    {
     "datasetId": 655,
     "sourceId": 1252,
     "sourceType": "datasetVersion"
    },
    {
     "datasetId": 2321,
     "sourceId": 3919,
     "sourceType": "datasetVersion"
    },
    {
     "datasetId": 2894,
     "sourceId": 4877,
     "sourceType": "datasetVersion"
    },
    {
     "datasetId": 3491,
     "sourceId": 5624,
     "sourceType": "datasetVersion"
    },
    {
     "datasetId": 1442,
     "sourceId": 8172,
     "sourceType": "datasetVersion"
    },
    {
     "datasetId": 9366,
     "sourceId": 13206,
     "sourceType": "datasetVersion"
    },
    {
     "datasetId": 179555,
     "sourceId": 403916,
     "sourceType": "datasetVersion"
    },
    {
     "datasetId": 4549,
     "sourceId": 466349,
     "sourceType": "datasetVersion"
    },
    {
     "datasetId": 2478,
     "sourceId": 1151655,
     "sourceType": "datasetVersion"
    },
    {
     "datasetId": 10128,
     "sourceId": 5438389,
     "sourceType": "datasetVersion"
    }
   ],
   "isGpuEnabled": false,
   "isInternetEnabled": false,
   "language": "python",
   "sourceType": "notebook"
  },
  "kernelspec": {
   "display_name": "Python 3",
   "language": "python",
   "name": "python3"
  },
  "language_info": {
   "codemirror_mode": {
    "name": "ipython",
    "version": 3
   },
   "file_extension": ".py",
   "mimetype": "text/x-python",
   "name": "python",
   "nbconvert_exporter": "python",
   "pygments_lexer": "ipython3",
   "version": "3.10.13"
  },
  "papermill": {
   "default_parameters": {},
   "duration": 8.04879,
   "end_time": "2024-07-01T14:12:41.403547",
   "environment_variables": {},
   "exception": null,
   "input_path": "__notebook__.ipynb",
   "output_path": "__notebook__.ipynb",
   "parameters": {},
   "start_time": "2024-07-01T14:12:33.354757",
   "version": "2.5.0"
  }
 },
 "nbformat": 4,
 "nbformat_minor": 5
}
